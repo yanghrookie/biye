{
 "cells": [
  {
   "cell_type": "code",
   "execution_count": 2,
   "id": "097882b6",
   "metadata": {},
   "outputs": [],
   "source": [
    "import pandas as pd\n",
    "import os\n",
    "import numpy as np\n",
    "\n",
    "import tensorflow as tf\n",
    "from tensorflow.keras.callbacks import ReduceLROnPlateau\n",
    "from tensorflow.keras.models import Sequential\n",
    "from tensorflow.keras.layers import *\n",
    "\n",
    "#from sklearn.metrics import confusion_matrix\n",
    "from sklearn.preprocessing import StandardScaler\n",
    "from sklearn.model_selection import train_test_split"
   ]
  },
  {
   "cell_type": "markdown",
   "id": "0fb15330",
   "metadata": {},
   "source": [
    "# 数据处理"
   ]
  },
  {
   "cell_type": "code",
   "execution_count": 38,
   "id": "56dff878",
   "metadata": {},
   "outputs": [
    {
     "name": "stdout",
     "output_type": "stream",
     "text": [
      "0       0\n",
      "1       0\n",
      "2       0\n",
      "3       0\n",
      "4       0\n",
      "       ..\n",
      "5197    0\n",
      "5198    0\n",
      "5199    0\n",
      "5200    0\n",
      "5201    0\n",
      "Name: marker, Length: 5202, dtype: object\n"
     ]
    }
   ],
   "source": [
    "file=\"E:/data/bi/data4.csv\"\n",
    "all_df=pd.read_csv(file,sep=',')\n",
    "\n",
    "for i in range(len(all_df[\"marker\"].values)): \n",
    "    if(all_df[\"marker\"].values[i] =='Natural'): \n",
    "        all_df[\"marker\"].values[i] =0\n",
    "    else:\n",
    "        all_df[\"marker\"].values[i] =1\n",
    "print(all_df[\"marker\"])\n",
    "\n",
    "#删除空值和inf所在行\n",
    "all_df=all_df[~all_df.isin([np.nan, np.inf, -np.inf]).any(1)]\n",
    "#保存数据\n",
    "all_df.to_csv(\"E:/data/bi/data4.csv\",index=0)\n",
    "#all_df=all_df.iloc[:,1:130]"
   ]
  },
  {
   "cell_type": "code",
   "execution_count": 22,
   "id": "d9a69704",
   "metadata": {},
   "outputs": [
    {
     "name": "stdout",
     "output_type": "stream",
     "text": [
      "0       0\n",
      "1       0\n",
      "2       0\n",
      "3       0\n",
      "4       0\n",
      "       ..\n",
      "5197    0\n",
      "5198    0\n",
      "5199    0\n",
      "5200    0\n",
      "5201    0\n",
      "Name: marker, Length: 5202, dtype: object\n"
     ]
    }
   ],
   "source": [
    "for i in range(len(all_df[\"marker\"].values)): \n",
    "    if(all_df[\"marker\"].values[i] =='Natural'): \n",
    "        all_df[\"marker\"].values[i] =0\n",
    "    else:\n",
    "        all_df[\"marker\"].values[i] =1\n",
    "print(all_df[\"marker\"])"
   ]
  },
  {
   "cell_type": "code",
   "execution_count": 23,
   "id": "ab901f03",
   "metadata": {},
   "outputs": [],
   "source": [
    "#删除空值和inf所在行\n",
    "all_df=all_df[~all_df.isin([np.nan, np.inf, -np.inf]).any(1)]\n",
    "#保存数据\n",
    "all_df.to_csv(\"E:/data/bi/data4.csv\",index=0)\n",
    "#all_df=all_df.iloc[:,1:130]"
   ]
  },
  {
   "cell_type": "code",
   "execution_count": 24,
   "id": "ce9c89f3",
   "metadata": {},
   "outputs": [],
   "source": [
    "all_df3=pd.read_csv(\"E:/data/bi/data4.csv\")"
   ]
  },
  {
   "cell_type": "code",
   "execution_count": 20,
   "id": "83058917",
   "metadata": {},
   "outputs": [
    {
     "data": {
      "text/html": [
       "<div>\n",
       "<style scoped>\n",
       "    .dataframe tbody tr th:only-of-type {\n",
       "        vertical-align: middle;\n",
       "    }\n",
       "\n",
       "    .dataframe tbody tr th {\n",
       "        vertical-align: top;\n",
       "    }\n",
       "\n",
       "    .dataframe thead th {\n",
       "        text-align: right;\n",
       "    }\n",
       "</style>\n",
       "<table border=\"1\" class=\"dataframe\">\n",
       "  <thead>\n",
       "    <tr style=\"text-align: right;\">\n",
       "      <th></th>\n",
       "      <th>R1-PA1:VH</th>\n",
       "      <th>R1-PM1:V</th>\n",
       "      <th>R1-PA2:VH</th>\n",
       "      <th>R1-PM2:V</th>\n",
       "      <th>R1-PA3:VH</th>\n",
       "      <th>R1-PM3:V</th>\n",
       "      <th>R1-PA4:IH</th>\n",
       "      <th>R1-PM4:I</th>\n",
       "      <th>R1-PA5:IH</th>\n",
       "      <th>R1-PM5:I</th>\n",
       "      <th>...</th>\n",
       "      <th>control_panel_log4</th>\n",
       "      <th>relay1_log</th>\n",
       "      <th>relay2_log</th>\n",
       "      <th>relay3_log</th>\n",
       "      <th>relay4_log</th>\n",
       "      <th>snort_log1</th>\n",
       "      <th>snort_log2</th>\n",
       "      <th>snort_log3</th>\n",
       "      <th>snort_log4</th>\n",
       "      <th>marker</th>\n",
       "    </tr>\n",
       "  </thead>\n",
       "  <tbody>\n",
       "    <tr>\n",
       "      <th>0</th>\n",
       "      <td>64.480670</td>\n",
       "      <td>130431.1505</td>\n",
       "      <td>-55.513881</td>\n",
       "      <td>130381.0040</td>\n",
       "      <td>-175.514161</td>\n",
       "      <td>130481.2971</td>\n",
       "      <td>64.411915</td>\n",
       "      <td>481.39619</td>\n",
       "      <td>-60.596016</td>\n",
       "      <td>509.22891</td>\n",
       "      <td>...</td>\n",
       "      <td>0</td>\n",
       "      <td>0</td>\n",
       "      <td>0</td>\n",
       "      <td>0</td>\n",
       "      <td>0</td>\n",
       "      <td>0</td>\n",
       "      <td>0</td>\n",
       "      <td>0</td>\n",
       "      <td>0</td>\n",
       "      <td>0</td>\n",
       "    </tr>\n",
       "    <tr>\n",
       "      <th>1</th>\n",
       "      <td>71.000930</td>\n",
       "      <td>131383.9348</td>\n",
       "      <td>-48.987891</td>\n",
       "      <td>131333.7883</td>\n",
       "      <td>-168.982442</td>\n",
       "      <td>131459.1546</td>\n",
       "      <td>77.933719</td>\n",
       "      <td>264.04462</td>\n",
       "      <td>-48.013863</td>\n",
       "      <td>282.90495</td>\n",
       "      <td>...</td>\n",
       "      <td>0</td>\n",
       "      <td>0</td>\n",
       "      <td>0</td>\n",
       "      <td>0</td>\n",
       "      <td>0</td>\n",
       "      <td>0</td>\n",
       "      <td>0</td>\n",
       "      <td>0</td>\n",
       "      <td>0</td>\n",
       "      <td>0</td>\n",
       "    </tr>\n",
       "    <tr>\n",
       "      <th>2</th>\n",
       "      <td>74.879854</td>\n",
       "      <td>132361.7923</td>\n",
       "      <td>-45.108967</td>\n",
       "      <td>132311.6458</td>\n",
       "      <td>-165.114977</td>\n",
       "      <td>132411.9389</td>\n",
       "      <td>78.426463</td>\n",
       "      <td>274.48189</td>\n",
       "      <td>-44.329745</td>\n",
       "      <td>281.62318</td>\n",
       "      <td>...</td>\n",
       "      <td>0</td>\n",
       "      <td>0</td>\n",
       "      <td>0</td>\n",
       "      <td>0</td>\n",
       "      <td>0</td>\n",
       "      <td>0</td>\n",
       "      <td>0</td>\n",
       "      <td>0</td>\n",
       "      <td>0</td>\n",
       "      <td>0</td>\n",
       "    </tr>\n",
       "    <tr>\n",
       "      <th>3</th>\n",
       "      <td>74.702237</td>\n",
       "      <td>132261.4993</td>\n",
       "      <td>-45.269395</td>\n",
       "      <td>132211.3527</td>\n",
       "      <td>-165.281135</td>\n",
       "      <td>132311.6458</td>\n",
       "      <td>77.435246</td>\n",
       "      <td>277.41165</td>\n",
       "      <td>-44.581846</td>\n",
       "      <td>281.98940</td>\n",
       "      <td>...</td>\n",
       "      <td>0</td>\n",
       "      <td>0</td>\n",
       "      <td>0</td>\n",
       "      <td>0</td>\n",
       "      <td>0</td>\n",
       "      <td>0</td>\n",
       "      <td>0</td>\n",
       "      <td>0</td>\n",
       "      <td>0</td>\n",
       "      <td>0</td>\n",
       "    </tr>\n",
       "    <tr>\n",
       "      <th>4</th>\n",
       "      <td>74.633482</td>\n",
       "      <td>132236.4260</td>\n",
       "      <td>-45.361069</td>\n",
       "      <td>132186.2794</td>\n",
       "      <td>-165.361349</td>\n",
       "      <td>132311.6458</td>\n",
       "      <td>77.034176</td>\n",
       "      <td>278.51031</td>\n",
       "      <td>-44.696438</td>\n",
       "      <td>282.17251</td>\n",
       "      <td>...</td>\n",
       "      <td>0</td>\n",
       "      <td>0</td>\n",
       "      <td>0</td>\n",
       "      <td>0</td>\n",
       "      <td>0</td>\n",
       "      <td>0</td>\n",
       "      <td>0</td>\n",
       "      <td>0</td>\n",
       "      <td>0</td>\n",
       "      <td>0</td>\n",
       "    </tr>\n",
       "    <tr>\n",
       "      <th>...</th>\n",
       "      <td>...</td>\n",
       "      <td>...</td>\n",
       "      <td>...</td>\n",
       "      <td>...</td>\n",
       "      <td>...</td>\n",
       "      <td>...</td>\n",
       "      <td>...</td>\n",
       "      <td>...</td>\n",
       "      <td>...</td>\n",
       "      <td>...</td>\n",
       "      <td>...</td>\n",
       "      <td>...</td>\n",
       "      <td>...</td>\n",
       "      <td>...</td>\n",
       "      <td>...</td>\n",
       "      <td>...</td>\n",
       "      <td>...</td>\n",
       "      <td>...</td>\n",
       "      <td>...</td>\n",
       "      <td>...</td>\n",
       "      <td>...</td>\n",
       "    </tr>\n",
       "    <tr>\n",
       "      <th>4966</th>\n",
       "      <td>132.702755</td>\n",
       "      <td>131308.7150</td>\n",
       "      <td>12.725393</td>\n",
       "      <td>131283.6417</td>\n",
       "      <td>-107.274888</td>\n",
       "      <td>131383.9348</td>\n",
       "      <td>137.051505</td>\n",
       "      <td>322.09049</td>\n",
       "      <td>17.194463</td>\n",
       "      <td>322.45671</td>\n",
       "      <td>...</td>\n",
       "      <td>0</td>\n",
       "      <td>0</td>\n",
       "      <td>0</td>\n",
       "      <td>0</td>\n",
       "      <td>0</td>\n",
       "      <td>0</td>\n",
       "      <td>0</td>\n",
       "      <td>0</td>\n",
       "      <td>0</td>\n",
       "      <td>0</td>\n",
       "    </tr>\n",
       "    <tr>\n",
       "      <th>4967</th>\n",
       "      <td>131.980828</td>\n",
       "      <td>131835.2537</td>\n",
       "      <td>11.992007</td>\n",
       "      <td>131835.2537</td>\n",
       "      <td>-107.979626</td>\n",
       "      <td>131935.5467</td>\n",
       "      <td>132.061042</td>\n",
       "      <td>337.47173</td>\n",
       "      <td>11.946170</td>\n",
       "      <td>338.38728</td>\n",
       "      <td>...</td>\n",
       "      <td>0</td>\n",
       "      <td>0</td>\n",
       "      <td>0</td>\n",
       "      <td>0</td>\n",
       "      <td>0</td>\n",
       "      <td>0</td>\n",
       "      <td>0</td>\n",
       "      <td>0</td>\n",
       "      <td>0</td>\n",
       "      <td>0</td>\n",
       "    </tr>\n",
       "    <tr>\n",
       "      <th>4968</th>\n",
       "      <td>131.780293</td>\n",
       "      <td>131885.4002</td>\n",
       "      <td>11.802931</td>\n",
       "      <td>131860.3269</td>\n",
       "      <td>-108.191620</td>\n",
       "      <td>131960.6200</td>\n",
       "      <td>131.379222</td>\n",
       "      <td>338.75350</td>\n",
       "      <td>11.258621</td>\n",
       "      <td>339.85216</td>\n",
       "      <td>...</td>\n",
       "      <td>0</td>\n",
       "      <td>0</td>\n",
       "      <td>0</td>\n",
       "      <td>0</td>\n",
       "      <td>0</td>\n",
       "      <td>0</td>\n",
       "      <td>0</td>\n",
       "      <td>0</td>\n",
       "      <td>0</td>\n",
       "      <td>0</td>\n",
       "    </tr>\n",
       "    <tr>\n",
       "      <th>4969</th>\n",
       "      <td>131.757375</td>\n",
       "      <td>131885.4002</td>\n",
       "      <td>11.762824</td>\n",
       "      <td>131860.3269</td>\n",
       "      <td>-108.214539</td>\n",
       "      <td>131985.6933</td>\n",
       "      <td>131.270360</td>\n",
       "      <td>339.11972</td>\n",
       "      <td>11.241432</td>\n",
       "      <td>340.03527</td>\n",
       "      <td>...</td>\n",
       "      <td>0</td>\n",
       "      <td>0</td>\n",
       "      <td>0</td>\n",
       "      <td>0</td>\n",
       "      <td>0</td>\n",
       "      <td>0</td>\n",
       "      <td>0</td>\n",
       "      <td>0</td>\n",
       "      <td>0</td>\n",
       "      <td>0</td>\n",
       "    </tr>\n",
       "    <tr>\n",
       "      <th>4970</th>\n",
       "      <td>131.734456</td>\n",
       "      <td>131885.4002</td>\n",
       "      <td>11.739905</td>\n",
       "      <td>131860.3269</td>\n",
       "      <td>-108.237457</td>\n",
       "      <td>131985.6933</td>\n",
       "      <td>131.264631</td>\n",
       "      <td>339.48594</td>\n",
       "      <td>11.109652</td>\n",
       "      <td>340.21838</td>\n",
       "      <td>...</td>\n",
       "      <td>0</td>\n",
       "      <td>0</td>\n",
       "      <td>0</td>\n",
       "      <td>0</td>\n",
       "      <td>0</td>\n",
       "      <td>0</td>\n",
       "      <td>0</td>\n",
       "      <td>0</td>\n",
       "      <td>0</td>\n",
       "      <td>0</td>\n",
       "    </tr>\n",
       "  </tbody>\n",
       "</table>\n",
       "<p>4971 rows × 129 columns</p>\n",
       "</div>"
      ],
      "text/plain": [
       "       R1-PA1:VH     R1-PM1:V  R1-PA2:VH     R1-PM2:V   R1-PA3:VH  \\\n",
       "0      64.480670  130431.1505 -55.513881  130381.0040 -175.514161   \n",
       "1      71.000930  131383.9348 -48.987891  131333.7883 -168.982442   \n",
       "2      74.879854  132361.7923 -45.108967  132311.6458 -165.114977   \n",
       "3      74.702237  132261.4993 -45.269395  132211.3527 -165.281135   \n",
       "4      74.633482  132236.4260 -45.361069  132186.2794 -165.361349   \n",
       "...          ...          ...        ...          ...         ...   \n",
       "4966  132.702755  131308.7150  12.725393  131283.6417 -107.274888   \n",
       "4967  131.980828  131835.2537  11.992007  131835.2537 -107.979626   \n",
       "4968  131.780293  131885.4002  11.802931  131860.3269 -108.191620   \n",
       "4969  131.757375  131885.4002  11.762824  131860.3269 -108.214539   \n",
       "4970  131.734456  131885.4002  11.739905  131860.3269 -108.237457   \n",
       "\n",
       "         R1-PM3:V   R1-PA4:IH   R1-PM4:I  R1-PA5:IH   R1-PM5:I  ...  \\\n",
       "0     130481.2971   64.411915  481.39619 -60.596016  509.22891  ...   \n",
       "1     131459.1546   77.933719  264.04462 -48.013863  282.90495  ...   \n",
       "2     132411.9389   78.426463  274.48189 -44.329745  281.62318  ...   \n",
       "3     132311.6458   77.435246  277.41165 -44.581846  281.98940  ...   \n",
       "4     132311.6458   77.034176  278.51031 -44.696438  282.17251  ...   \n",
       "...           ...         ...        ...        ...        ...  ...   \n",
       "4966  131383.9348  137.051505  322.09049  17.194463  322.45671  ...   \n",
       "4967  131935.5467  132.061042  337.47173  11.946170  338.38728  ...   \n",
       "4968  131960.6200  131.379222  338.75350  11.258621  339.85216  ...   \n",
       "4969  131985.6933  131.270360  339.11972  11.241432  340.03527  ...   \n",
       "4970  131985.6933  131.264631  339.48594  11.109652  340.21838  ...   \n",
       "\n",
       "      control_panel_log4  relay1_log  relay2_log  relay3_log  relay4_log  \\\n",
       "0                      0           0           0           0           0   \n",
       "1                      0           0           0           0           0   \n",
       "2                      0           0           0           0           0   \n",
       "3                      0           0           0           0           0   \n",
       "4                      0           0           0           0           0   \n",
       "...                  ...         ...         ...         ...         ...   \n",
       "4966                   0           0           0           0           0   \n",
       "4967                   0           0           0           0           0   \n",
       "4968                   0           0           0           0           0   \n",
       "4969                   0           0           0           0           0   \n",
       "4970                   0           0           0           0           0   \n",
       "\n",
       "      snort_log1  snort_log2  snort_log3  snort_log4  marker  \n",
       "0              0           0           0           0       0  \n",
       "1              0           0           0           0       0  \n",
       "2              0           0           0           0       0  \n",
       "3              0           0           0           0       0  \n",
       "4              0           0           0           0       0  \n",
       "...          ...         ...         ...         ...     ...  \n",
       "4966           0           0           0           0       0  \n",
       "4967           0           0           0           0       0  \n",
       "4968           0           0           0           0       0  \n",
       "4969           0           0           0           0       0  \n",
       "4970           0           0           0           0       0  \n",
       "\n",
       "[4971 rows x 129 columns]"
      ]
     },
     "execution_count": 20,
     "metadata": {},
     "output_type": "execute_result"
    }
   ],
   "source": [
    "all_df3"
   ]
  },
  {
   "cell_type": "markdown",
   "id": "f4d5c1ff",
   "metadata": {},
   "source": [
    "# 用处理后的数据进行CNN"
   ]
  },
  {
   "cell_type": "code",
   "execution_count": 3,
   "id": "b0ec6182",
   "metadata": {},
   "outputs": [],
   "source": [
    "#all_df = pd.read_csv(\"E:/data/pca_data_5.csv\",names=[\"0\",\"1\",\"2\",\"3\",\"4\",\"5\"])\n",
    "all_df=pd.read_csv(\"E:/data/bi/data1.csv\")\n",
    "#all_df=pd.read_csv(r\"E:\\data\\14busdata\\1w14attack.csv\",header=None)\n",
    "ndarray = all_df.values"
   ]
  },
  {
   "cell_type": "code",
   "execution_count": 3,
   "id": "1c67a1ad",
   "metadata": {},
   "outputs": [
    {
     "data": {
      "text/plain": [
       "(4618, 129)"
      ]
     },
     "execution_count": 3,
     "metadata": {},
     "output_type": "execute_result"
    }
   ],
   "source": [
    "ndarray.shape"
   ]
  },
  {
   "cell_type": "code",
   "execution_count": 4,
   "id": "cd64facd",
   "metadata": {},
   "outputs": [],
   "source": [
    "all_df2=pd.read_csv(\"E:/data/bi/data2.csv\")\n",
    "ndarray2 = all_df2.values"
   ]
  },
  {
   "cell_type": "code",
   "execution_count": 6,
   "id": "f536cd81",
   "metadata": {},
   "outputs": [],
   "source": [
    "all_df3=pd.read_csv(\"E:/data/bi/data3.csv\")\n",
    "ndarray3 = all_df3.values"
   ]
  },
  {
   "cell_type": "code",
   "execution_count": 20,
   "id": "cb3d233b",
   "metadata": {},
   "outputs": [],
   "source": [
    "ndarray=np.vstack((ndarray,ndarray2,ndarray3))"
   ]
  },
  {
   "cell_type": "code",
   "execution_count": 4,
   "id": "1cd4a15e",
   "metadata": {},
   "outputs": [
    {
     "data": {
      "text/plain": [
       "(4618, 129)"
      ]
     },
     "execution_count": 4,
     "metadata": {},
     "output_type": "execute_result"
    }
   ],
   "source": [
    "ndarray.shape"
   ]
  },
  {
   "cell_type": "code",
   "execution_count": 5,
   "id": "01686fab",
   "metadata": {},
   "outputs": [],
   "source": [
    "#把特征和标签分开用于归一化\n",
    "label=ndarray[:,-1].reshape(4618,1)\n",
    "feature=ndarray[:,:-1]"
   ]
  },
  {
   "cell_type": "code",
   "execution_count": 6,
   "id": "08a6c550",
   "metadata": {},
   "outputs": [],
   "source": [
    "from sklearn import preprocessing\n",
    "#数据归一化\n",
    "minmax_scale=preprocessing.MinMaxScaler(feature_range=(0,1))\n",
    "scalefeature=minmax_scale.fit_transform(feature)"
   ]
  },
  {
   "cell_type": "code",
   "execution_count": 7,
   "id": "3f33acff",
   "metadata": {},
   "outputs": [
    {
     "data": {
      "text/plain": [
       "(4618, 128)"
      ]
     },
     "execution_count": 7,
     "metadata": {},
     "output_type": "execute_result"
    }
   ],
   "source": [
    "scalefeature.shape"
   ]
  },
  {
   "cell_type": "code",
   "execution_count": 8,
   "id": "d0202aed",
   "metadata": {},
   "outputs": [],
   "source": [
    "#先将数据集进行拼接，要不然我们只针对样本进行采样的话，会找不到对应的标签的\n",
    "data = np.hstack((scalefeature,label))"
   ]
  },
  {
   "cell_type": "code",
   "execution_count": 9,
   "id": "9dd7ae97",
   "metadata": {},
   "outputs": [],
   "source": [
    "#使用随机采样方式划分数据集\n",
    "train_set,test_set = train_test_split(data,test_size = 0.2,random_state = 42)\n",
    "n=len(train_set)\n",
    "m=len(test_set)"
   ]
  },
  {
   "cell_type": "code",
   "execution_count": 10,
   "id": "f6503182",
   "metadata": {},
   "outputs": [],
   "source": [
    "#把训练和测试的特征和标签分开\n",
    "tr_feature=train_set[:,:-1]\n",
    "tr_label=train_set[:,-1].reshape(n,1)\n",
    "te_feature=test_set[:,:-1]\n",
    "te_label=test_set[:,-1].reshape(m,1)"
   ]
  },
  {
   "cell_type": "code",
   "execution_count": 11,
   "id": "fd084534",
   "metadata": {},
   "outputs": [],
   "source": [
    "#扩充特征的维度否则会报错\n",
    "tr_feature=np.expand_dims(tr_feature,axis=2)\n",
    "te_feature=np.expand_dims(te_feature,axis=2)"
   ]
  },
  {
   "cell_type": "code",
   "execution_count": 12,
   "id": "19aee4b3",
   "metadata": {},
   "outputs": [
    {
     "data": {
      "text/plain": [
       "128"
      ]
     },
     "execution_count": 12,
     "metadata": {},
     "output_type": "execute_result"
    }
   ],
   "source": [
    "tr_feature.shape[1]"
   ]
  },
  {
   "cell_type": "code",
   "execution_count": 13,
   "id": "857ab89a",
   "metadata": {},
   "outputs": [
    {
     "name": "stdout",
     "output_type": "stream",
     "text": [
      "Model: \"sequential\"\n",
      "_________________________________________________________________\n",
      "Layer (type)                 Output Shape              Param #   \n",
      "=================================================================\n",
      "conv1d (Conv1D)              (None, 124, 256)          1536      \n",
      "_________________________________________________________________\n",
      "dropout (Dropout)            (None, 124, 256)          0         \n",
      "_________________________________________________________________\n",
      "conv1d_1 (Conv1D)            (None, 122, 128)          98432     \n",
      "_________________________________________________________________\n",
      "max_pooling1d (MaxPooling1D) (None, 40, 128)           0         \n",
      "_________________________________________________________________\n",
      "conv1d_2 (Conv1D)            (None, 38, 128)           49280     \n",
      "_________________________________________________________________\n",
      "dropout_1 (Dropout)          (None, 38, 128)           0         \n",
      "_________________________________________________________________\n",
      "conv1d_3 (Conv1D)            (None, 36, 50)            19250     \n",
      "_________________________________________________________________\n",
      "dropout_2 (Dropout)          (None, 36, 50)            0         \n",
      "_________________________________________________________________\n",
      "conv1d_4 (Conv1D)            (None, 34, 10)            1510      \n",
      "_________________________________________________________________\n",
      "flatten (Flatten)            (None, 340)               0         \n",
      "_________________________________________________________________\n",
      "dense (Dense)                (None, 160)               54560     \n",
      "_________________________________________________________________\n",
      "dense_1 (Dense)              (None, 1)                 161       \n",
      "=================================================================\n",
      "Total params: 224,729\n",
      "Trainable params: 224,729\n",
      "Non-trainable params: 0\n",
      "_________________________________________________________________\n"
     ]
    }
   ],
   "source": [
    "model = Sequential()\n",
    "model.add(Conv1D(256, 5, activation='relu', input_shape=(tr_feature.shape[1], 1)))\n",
    "model.add(Dropout(0.1))\n",
    "model.add(Conv1D(128, 3, activation='relu'))\n",
    "model.add(MaxPooling1D(3))\n",
    "#model.add(Conv1D(128, 3, activation='relu'))\n",
    "model.add(Conv1D(128, 3, activation='relu'))\n",
    "model.add(Dropout(0.1))\n",
    "model.add(Conv1D(50, 3, activation='relu'))\n",
    "model.add(Dropout(0.1))\n",
    "model.add(Conv1D(10, 3, activation='relu'))\n",
    "model.add(Flatten())\n",
    "model.add(Dense(160, activation='relu'))\n",
    "model.add(Dense(1, activation='sigmoid'))\n",
    "model.summary()"
   ]
  },
  {
   "cell_type": "code",
   "execution_count": 13,
   "id": "27fc4f9c",
   "metadata": {},
   "outputs": [],
   "source": [
    "# model = Sequential()\n",
    "# model.add(Conv1D(10, 2, activation='relu', input_shape=(tr_feature.shape[1], 1),padding='same'))\n",
    "#model.add(Dropout(0.05))\n",
    "#model.add(Conv1D(7, 2, activation='relu',padding='same'))\n",
    "#model.add(MaxPooling1D(3))\n",
    "#model.add(Conv1D(128, 3, activation='relu'))\n",
    "#model.add(Conv1D(128, 3, activation='relu'))\n",
    "#model.add(Conv1D(100, 3, activation='relu'))\n",
    "#model.add(Dropout(0.05))\n",
    "#model.add(Conv1D(3, 2, activation='relu',padding='same'))\n",
    "#model.add(Dropout(0.05))\n",
    "#model.add(Conv1D(10, 3, activation='relu'))\n",
    "#model.add(Flatten())\n",
    "#model.add(Dense(1, activation='sigmoid'))\n",
    "#model.summary()"
   ]
  },
  {
   "cell_type": "code",
   "execution_count": 47,
   "id": "5dcd080c",
   "metadata": {},
   "outputs": [],
   "source": [
    "from tensorflow.keras import backend as K"
   ]
  },
  {
   "cell_type": "code",
   "execution_count": 48,
   "id": "162a34a4",
   "metadata": {},
   "outputs": [],
   "source": [
    "def binary_focal_loss(gamma=2, alpha=0.25):\n",
    "    \"\"\"\n",
    "    Binary form of focal loss.\n",
    "    适用于二分类问题的focal loss\n",
    "    \n",
    "    focal_loss(p_t) = -alpha_t * (1 - p_t)**gamma * log(p_t)\n",
    "        where p = sigmoid(x), p_t = p or 1 - p depending on if the label is 1 or 0, respectively.\n",
    "    References:\n",
    "        https://arxiv.org/pdf/1708.02002.pdf\n",
    "    Usage:\n",
    "     model.compile(loss=[binary_focal_loss(alpha=.25, gamma=2)], metrics=[\"accuracy\"], optimizer=adam)\n",
    "    \"\"\"\n",
    "    alpha = tf.constant(alpha, dtype=tf.float32)\n",
    "    gamma = tf.constant(gamma, dtype=tf.float32)\n",
    "\n",
    "    def binary_focal_loss_fixed(y_true, y_pred):\n",
    "        \"\"\"\n",
    "        y_true shape need be (None,1)\n",
    "        y_pred need be compute after sigmoid\n",
    "        \"\"\"\n",
    "        y_true = tf.cast(y_true, tf.float32)\n",
    "        alpha_t = y_true*alpha + (K.ones_like(y_true)-y_true)*(1-alpha)\n",
    "    \n",
    "        p_t = y_true*y_pred + (K.ones_like(y_true)-y_true)*(K.ones_like(y_true)-y_pred) + K.epsilon()\n",
    "        focal_loss = - alpha_t * K.pow((K.ones_like(y_true)-p_t),gamma) * K.log(p_t)\n",
    "        return K.mean(focal_loss)\n",
    "    return binary_focal_loss_fixed\n"
   ]
  },
  {
   "cell_type": "code",
   "execution_count": 14,
   "id": "69bd33c0",
   "metadata": {},
   "outputs": [],
   "source": [
    "model.compile(loss='binary_crossentropy',optimizer='adam',metrics=['accuracy'])"
   ]
  },
  {
   "cell_type": "code",
   "execution_count": 15,
   "id": "d8913450",
   "metadata": {},
   "outputs": [
    {
     "name": "stdout",
     "output_type": "stream",
     "text": [
      "Train on 3324 samples, validate on 370 samples\n",
      "Epoch 1/20\n",
      "3324/3324 [==============================] - 11s 3ms/sample - loss: 0.5198 - accuracy: 0.7831 - val_loss: 0.4848 - val_accuracy: 0.7784\n",
      "Epoch 2/20\n",
      "3324/3324 [==============================] - 8s 3ms/sample - loss: 0.4650 - accuracy: 0.7771 - val_loss: 0.4878 - val_accuracy: 0.7784\n",
      "Epoch 3/20\n",
      "3324/3324 [==============================] - 9s 3ms/sample - loss: 0.4478 - accuracy: 0.7828 - val_loss: 0.4477 - val_accuracy: 0.7784\n",
      "Epoch 4/20\n",
      "3324/3324 [==============================] - 8s 3ms/sample - loss: 0.4532 - accuracy: 0.7807 - val_loss: 0.4548 - val_accuracy: 0.7784\n",
      "Epoch 5/20\n",
      "3324/3324 [==============================] - 8s 3ms/sample - loss: 0.4395 - accuracy: 0.7798 - val_loss: 0.4431 - val_accuracy: 0.7784\n",
      "Epoch 6/20\n",
      "3324/3324 [==============================] - 9s 3ms/sample - loss: 0.4342 - accuracy: 0.7813 - val_loss: 0.4577 - val_accuracy: 0.7811\n",
      "Epoch 7/20\n",
      "3324/3324 [==============================] - 8s 2ms/sample - loss: 0.4332 - accuracy: 0.7825 - val_loss: 0.4458 - val_accuracy: 0.7838\n",
      "Epoch 8/20\n",
      "3324/3324 [==============================] - 8s 3ms/sample - loss: 0.4278 - accuracy: 0.7858 - val_loss: 0.4480 - val_accuracy: 0.7811\n",
      "Epoch 9/20\n",
      "3324/3324 [==============================] - 8s 2ms/sample - loss: 0.4265 - accuracy: 0.7855 - val_loss: 0.4358 - val_accuracy: 0.7784\n",
      "Epoch 10/20\n",
      "3324/3324 [==============================] - 8s 3ms/sample - loss: 0.4235 - accuracy: 0.7882 - val_loss: 0.4417 - val_accuracy: 0.7784\n",
      "Epoch 11/20\n",
      "3324/3324 [==============================] - 9s 3ms/sample - loss: 0.4161 - accuracy: 0.7906 - val_loss: 0.4320 - val_accuracy: 0.7811\n",
      "Epoch 12/20\n",
      "3324/3324 [==============================] - 8s 3ms/sample - loss: 0.4257 - accuracy: 0.7843 - val_loss: 0.4275 - val_accuracy: 0.7892\n",
      "Epoch 13/20\n",
      "3324/3324 [==============================] - 9s 3ms/sample - loss: 0.4135 - accuracy: 0.7921 - val_loss: 0.4295 - val_accuracy: 0.7865\n",
      "Epoch 14/20\n",
      "3324/3324 [==============================] - 8s 2ms/sample - loss: 0.4110 - accuracy: 0.7936 - val_loss: 0.4339 - val_accuracy: 0.7757\n",
      "Epoch 15/20\n",
      "3324/3324 [==============================] - 9s 3ms/sample - loss: 0.4162 - accuracy: 0.7921 - val_loss: 0.4330 - val_accuracy: 0.7838\n",
      "Epoch 16/20\n",
      "3324/3324 [==============================] - 8s 2ms/sample - loss: 0.4059 - accuracy: 0.7939 - val_loss: 0.4201 - val_accuracy: 0.7919\n",
      "Epoch 17/20\n",
      "3324/3324 [==============================] - 8s 2ms/sample - loss: 0.3979 - accuracy: 0.7957 - val_loss: 0.4186 - val_accuracy: 0.7865\n",
      "Epoch 18/20\n",
      "3324/3324 [==============================] - 9s 3ms/sample - loss: 0.3960 - accuracy: 0.7996 - val_loss: 0.4055 - val_accuracy: 0.8054\n",
      "Epoch 19/20\n",
      "3324/3324 [==============================] - 8s 2ms/sample - loss: 0.3870 - accuracy: 0.8090 - val_loss: 0.3997 - val_accuracy: 0.8297\n",
      "Epoch 20/20\n",
      "3324/3324 [==============================] - 9s 3ms/sample - loss: 0.3836 - accuracy: 0.8084 - val_loss: 0.4007 - val_accuracy: 0.8135\n"
     ]
    }
   ],
   "source": [
    "reduceLr = ReduceLROnPlateau(monitor='val_loss', factor=0.1, patience=5, verbose=0, mode='auto', cooldown=0, min_lr=0.01)\n",
    "\n",
    "train_history=model.fit(x=tr_feature, \n",
    "                        y=tr_label,\n",
    "                        validation_split=0.1,\n",
    "                        epochs=20,\n",
    "                        batch_size=20,\n",
    "                        callbacks=[reduceLr])\n"
   ]
  },
  {
   "cell_type": "code",
   "execution_count": 18,
   "id": "27818c8d",
   "metadata": {},
   "outputs": [
    {
     "ename": "TypeError",
     "evalue": "call() got an unexpected keyword argument 'outputs'",
     "output_type": "error",
     "traceback": [
      "\u001b[1;31m---------------------------------------------------------------------------\u001b[0m",
      "\u001b[1;31mTypeError\u001b[0m                                 Traceback (most recent call last)",
      "\u001b[1;32m~\\AppData\\Local\\Temp\\ipykernel_5172\\1783892868.py\u001b[0m in \u001b[0;36m<module>\u001b[1;34m\u001b[0m\n\u001b[1;32m----> 1\u001b[1;33m \u001b[0mmiddle\u001b[0m \u001b[1;33m=\u001b[0m \u001b[0mmodel\u001b[0m\u001b[1;33m(\u001b[0m\u001b[0minputs\u001b[0m\u001b[1;33m=\u001b[0m\u001b[0mmodel\u001b[0m\u001b[1;33m.\u001b[0m\u001b[0minput\u001b[0m\u001b[1;33m,\u001b[0m\u001b[0moutputs\u001b[0m\u001b[1;33m=\u001b[0m\u001b[0mmodel\u001b[0m\u001b[1;33m.\u001b[0m\u001b[0mget_layer\u001b[0m\u001b[1;33m(\u001b[0m\u001b[1;34m'dense'\u001b[0m\u001b[1;33m)\u001b[0m\u001b[1;33m.\u001b[0m\u001b[0moutput\u001b[0m\u001b[1;33m)\u001b[0m\u001b[1;33m\u001b[0m\u001b[1;33m\u001b[0m\u001b[0m\n\u001b[0m\u001b[0;32m      2\u001b[0m \u001b[0mresult\u001b[0m \u001b[1;33m=\u001b[0m \u001b[0mmiddle\u001b[0m\u001b[1;33m.\u001b[0m\u001b[0mpredict\u001b[0m\u001b[1;33m(\u001b[0m\u001b[0mx_test\u001b[0m\u001b[1;33m)\u001b[0m\u001b[1;33m[\u001b[0m\u001b[1;36m0\u001b[0m\u001b[1;33m]\u001b[0m\u001b[1;33m\u001b[0m\u001b[1;33m\u001b[0m\u001b[0m\n\u001b[0;32m      3\u001b[0m \u001b[0mprint\u001b[0m\u001b[1;33m(\u001b[0m\u001b[0mresult\u001b[0m\u001b[1;33m.\u001b[0m\u001b[0mshape\u001b[0m\u001b[1;33m)\u001b[0m\u001b[1;33m\u001b[0m\u001b[1;33m\u001b[0m\u001b[0m\n",
      "\u001b[1;32mE:\\ProgramData\\Anaconda3\\envs\\py37tf\\lib\\site-packages\\tensorflow_core\\python\\keras\\engine\\base_layer.py\u001b[0m in \u001b[0;36m__call__\u001b[1;34m(self, inputs, *args, **kwargs)\u001b[0m\n\u001b[0;32m    771\u001b[0m                     not base_layer_utils.is_in_eager_or_tf_function()):\n\u001b[0;32m    772\u001b[0m                   \u001b[1;32mwith\u001b[0m \u001b[0mauto_control_deps\u001b[0m\u001b[1;33m.\u001b[0m\u001b[0mAutomaticControlDependencies\u001b[0m\u001b[1;33m(\u001b[0m\u001b[1;33m)\u001b[0m \u001b[1;32mas\u001b[0m \u001b[0macd\u001b[0m\u001b[1;33m:\u001b[0m\u001b[1;33m\u001b[0m\u001b[1;33m\u001b[0m\u001b[0m\n\u001b[1;32m--> 773\u001b[1;33m                     \u001b[0moutputs\u001b[0m \u001b[1;33m=\u001b[0m \u001b[0mcall_fn\u001b[0m\u001b[1;33m(\u001b[0m\u001b[0mcast_inputs\u001b[0m\u001b[1;33m,\u001b[0m \u001b[1;33m*\u001b[0m\u001b[0margs\u001b[0m\u001b[1;33m,\u001b[0m \u001b[1;33m**\u001b[0m\u001b[0mkwargs\u001b[0m\u001b[1;33m)\u001b[0m\u001b[1;33m\u001b[0m\u001b[1;33m\u001b[0m\u001b[0m\n\u001b[0m\u001b[0;32m    774\u001b[0m                     \u001b[1;31m# Wrap Tensors in `outputs` in `tf.identity` to avoid\u001b[0m\u001b[1;33m\u001b[0m\u001b[1;33m\u001b[0m\u001b[1;33m\u001b[0m\u001b[0m\n\u001b[0;32m    775\u001b[0m                     \u001b[1;31m# circular dependencies.\u001b[0m\u001b[1;33m\u001b[0m\u001b[1;33m\u001b[0m\u001b[1;33m\u001b[0m\u001b[0m\n",
      "\u001b[1;31mTypeError\u001b[0m: call() got an unexpected keyword argument 'outputs'"
     ]
    }
   ],
   "source": [
    "middle = model(inputs=model.input,outputs=model.get_layer('dense').output)\n",
    "result = middle.predict(x_test)[0]\n",
    "print(result.shape)\n"
   ]
  },
  {
   "cell_type": "code",
   "execution_count": 16,
   "id": "f1040e04",
   "metadata": {},
   "outputs": [
    {
     "data": {
      "image/png": "[encoded data removed]",
      "text/plain": [
       "<Figure size 640x480 with 1 Axes>"
      ]
     },
     "metadata": {},
     "output_type": "display_data"
    },
    {
     "data": {
      "image/png": "[encoded data removed]",
      "text/plain": [
       "<Figure size 640x480 with 1 Axes>"
      ]
     },
     "metadata": {},
     "output_type": "display_data"
    }
   ],
   "source": [
    "import matplotlib.pyplot as plt \n",
    "acc = train_history.history['accuracy']\n",
    "val_acc = train_history.history['val_accuracy']\n",
    "loss = train_history.history['loss']\n",
    "val_loss = train_history.history['val_loss']\n",
    "epochs = range(len(acc))\n",
    "\n",
    "plt.plot(epochs,acc, 'b', label='Training accuracy')\n",
    "plt.plot(epochs, val_acc, 'r', label='validation accuracy')\n",
    "plt.title('Training and validation accuracy')\n",
    "plt.legend(loc='lower right')\n",
    "plt.figure()\n",
    "\n",
    "plt.plot(epochs, loss, 'r', label='Training loss')\n",
    "plt.plot(epochs, val_loss, 'b', label='validation loss')\n",
    "plt.title('Training and validation loss')\n",
    "plt.legend()\n",
    "plt.show()\n",
    "\n"
   ]
  },
  {
   "cell_type": "code",
   "execution_count": 23,
   "id": "62c455be",
   "metadata": {},
   "outputs": [
    {
     "name": "stdout",
     "output_type": "stream",
     "text": [
      "\r",
      "924/1 [========================================================================================================================================================================================================================================================================================================================================================================================================================================================================================================================================================================================================================================================================================================================================================================================================================================================================================================================================================================================================================================================================================================================================================================================================================================================================================================================================================================================================================================================================================================================================================================================================================================================================================================================================================================================================================================================================================================================================================================================================================================================================================================================================================================================================================================================================================================================================================================================================================================================================================================================================================================================================================================================================================================================================================================================================================================================================================================================================================================================================================================================================================================================================================================================================================================================================================================================================================================================================================================================================================================================================================================================================================================================================================================================================================================================================================================================================================================================================================================================================================================================================================================================================================================================================================================================================================================================================================================================================================================================================================================================================================================================================================================================================================================================================================================================================================================================================================================================================================================================================================================================================================================================================================================================================================================================================================================================================================================================================================================================================================================================================================================================================================================================================================================================================================================================================================================================================================================================================================================================================================================================================================================================================================================================================================================================================================================================================================================================================================================================================================================================================================================================================================================================================================================================================================================================================================================================================================================================================================================================================================================================================================================================================================================================================================================================================================================================================================================================================================================================================================================================================================================================================================================================================================================================================================================================================================================================================================================================================================================================================================================================================================================================================================================================================================================================================================================================================================================================================================================================================================================================================================================================================================================================================================================================================================================================================================================================================================================================================================================================================================================================================================================================================================================================================================================================================================================================================================================================================================================================================================================================================================================================================================================================================================================================================================================================================================================================================================================================================================================================================================================================================================================================================================================================================================================================================================================================================================================================================================================================================================================================================================================================================================================================================================================================================================================================================================================================================================================================================================================================================================================================================================================================================================================================================================================================================================================================================================================================================================================================================================================================================================================================================================================================================================================================================================================================================================================================================================================================================================================================================================================================================================================================================================================================================================================================================================================================================================================================================================================================================================================================================================================================================================================================================================================================================================================================================================================================================================================================================================================================================================================================================================================================================================================================================================================================================================================================================================================================================================================================================================================================================================================================================================================================================================================================================================================================================================================================================================================================================================================================================================================================================================================================================================================================================================================================================================================================================================================================================================================================================================================================================================================================================================================================================================================================================================================================================================================================================================================================================================================================================================================================================================================================================================================================================================================================================================================================================================================================================================================================================================================================================================================================================================================================================================================================================================================================================================================================================================================================================================================================================================================================================================================================================================================================================================================================================================================================================================================================================================================================================================================================================================================================================================================================================================================================================================================================================================================================================================================================================================================================================================================================================================================================================================================================================================================================================================================================================================================================================================================================================================================================================================================================================================================================================================================================================================================================================================================================================================================================================================================================================================================================================================================================================================================================================================================================================================================================================================================================================================================================================================================================================================================================================================================================================================================================================================================================================================================================================================================================================================================================================================================================================================================================================================================================================================================================================================================================================================================================================================================================================================================================================================================================================================================================================================================================================================================================================================================================================================================================================================================================================================================================================================================================================================================================================================================================================================================================================================================================================================================================================================================================================================================================================================================================================================================================================================================================================================================================================================================================================================================================================================================================================================================================================================================================================================================================================================================================================================================================================================================================================================================================================================================================================================================================================================================================================================================================================================================================================================================================================================================================================================================================================================================================================================================================================================================================================================================================================================================================================================================================================================================================================================================================================================================================================================================================================================================================================================================================================================================================================================================================================================================================================================================================================================================================================================================================================================================================================================================================================================================================================================================================================================================================================================================================================================================================================================================================================================================================================================================================================================================================================================================================================================================================================================================================================================================================================================================================================================================================================================================================================================================================================================================================================================================================================================================================================================================================================================================================================================================================================================================================================================================================================================================================================================================================================================================================================================================================================================================================================================================================================================================================================================================================================================================================================================================================================================================================================================================================================================================================================================================================================================================================================================================================================================================================================================================================================================================================================================================================================================================================================================================================================================================================================================================================================================================================================================================================================================================================================================================================================================================================================================================================================================================================================================================================================================================================================================================================================================================================================================================================================================================================================================================================================================================================================================================================================================================================================================================================================================================================================================================================================================================================================================================================================================================================================================================================================================================================================================================================================================================================================================================================================================================================================================================================================================================================================================================================================================================================================] - 0s 456us/sample - loss: 0.4542 - accuracy: 0.9448\n"
     ]
    }
   ],
   "source": [
    "score = model.evaluate(te_feature, te_label, batch_size=30)\n",
    "# pred_y=model.predict(te_feature, batch_size=100)\n"
   ]
  },
  {
   "cell_type": "code",
   "execution_count": 29,
   "id": "18120f82",
   "metadata": {},
   "outputs": [],
   "source": [
    "# pred_y=model.predict(te_feature, batch_size=100)\n",
    "# print(pred_y)"
   ]
  }
 ],
 "metadata": {
  "kernelspec": {
   "display_name": "Python [conda env:py37tf]",
   "language": "python",
   "name": "conda-env-py37tf-py"
  },
  "language_info": {
   "codemirror_mode": {
    "name": "ipython",
    "version": 3
   },
   "file_extension": ".py",
   "mimetype": "text/x-python",
   "name": "python",
   "nbconvert_exporter": "python",
   "pygments_lexer": "ipython3",
   "version": "3.7.13"
  }
 },
 "nbformat": 4,
 "nbformat_minor": 5
}
